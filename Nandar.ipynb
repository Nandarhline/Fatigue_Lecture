{
 "cells": [
  {
   "cell_type": "code",
   "execution_count": 3,
   "id": "1b5adb27",
   "metadata": {},
   "outputs": [],
   "source": [
    "import scipy.special as special\n",
    "import numpy as np"
   ]
  },
  {
   "cell_type": "code",
   "execution_count": 6,
   "id": "2473f062",
   "metadata": {},
   "outputs": [
    {
     "data": {
      "text/plain": [
       "0.7045203191317497"
      ]
     },
     "execution_count": 6,
     "metadata": {},
     "output_type": "execute_result"
    }
   ],
   "source": [
    "# SN curve parameters\n",
    "m = 3\n",
    "logK = 12.164\n",
    "q = 9\n",
    "h = 0.8\n",
    "n = 8.5e7\n",
    "K = 10**logK\n",
    "\n",
    "# Deterministic fatigue assessment\n",
    "D = n*q**m/K*special.gamma(1+m/h)\n",
    "D"
   ]
  },
  {
   "cell_type": "code",
   "execution_count": 7,
   "id": "faab548c",
   "metadata": {},
   "outputs": [],
   "source": [
    "# Probabilistic fatigue assessment\n",
    "samp = 10**7\n",
    "q_cov = 0.2\n",
    "q_ = np.random.normal(q, q_cov*q, size=(1,samp))\n",
    "\n",
    "\n",
    "logK_std = 0.2\n",
    "logK_mean = logK+2*logK_std\n",
    "logK_ = np.random.normal(logK_mean, logK_std, size=(1, samp))\n",
    "K_ = 10**(logK_)\n",
    "\n",
    "delta_mean = 0\n",
    "delta_cov = 0.3\n",
    "delta_std = (np.log(delta_cov**2+1))**0.5;\n",
    "delta_ = np.random.lognormal(delta_mean,delta_std,size=(1, samp));\n",
    "\n",
    "# Damage \n",
    "D_ = n*q_**m*special.gamma(1+m/h)/K_     \n"
   ]
  },
  {
   "cell_type": "code",
   "execution_count": 8,
   "id": "eb3c73e3",
   "metadata": {},
   "outputs": [
    {
     "data": {
      "text/plain": [
       "0.0462657"
      ]
     },
     "execution_count": 8,
     "metadata": {},
     "output_type": "execute_result"
    }
   ],
   "source": [
    "# Failure probability\n",
    "pf = sum(sum(D_>delta_))/samp\n",
    "pf"
   ]
  },
  {
   "cell_type": "code",
   "execution_count": 13,
   "id": "0b385d9b",
   "metadata": {},
   "outputs": [
    {
     "data": {
      "text/plain": [
       "array([0.0188979, 0.0303975, 0.0462965, 0.0652241, 0.0857917])"
      ]
     },
     "execution_count": 13,
     "metadata": {},
     "output_type": "execute_result"
    }
   ],
   "source": [
    "# Sensitivity of the shape parameter uncertainty\n",
    "Q_COV = np.array([0.1, 0.15, 0.2, 0.25, 0.3])\n",
    "PF = np.zeros((len(Q_COV,)))\n",
    "for i in range(len(Q_COV)):\n",
    "    q_ = np.random.normal(q, Q_COV[i]*q, size=(1,samp))\n",
    "    \n",
    "    D_ = n*q_**m*special.gamma(1+m/h)/K_ \n",
    "    PF[i] = sum(sum(D_>delta_))/samp\n",
    "\n",
    "PF"
   ]
  },
  {
   "cell_type": "code",
   "execution_count": null,
   "id": "6ea4f23c",
   "metadata": {},
   "outputs": [],
   "source": []
  }
 ],
 "metadata": {
  "kernelspec": {
   "display_name": "Python 3",
   "language": "python",
   "name": "python3"
  },
  "language_info": {
   "codemirror_mode": {
    "name": "ipython",
    "version": 3
   },
   "file_extension": ".py",
   "mimetype": "text/x-python",
   "name": "python",
   "nbconvert_exporter": "python",
   "pygments_lexer": "ipython3",
   "version": "3.8.3"
  }
 },
 "nbformat": 4,
 "nbformat_minor": 5
}

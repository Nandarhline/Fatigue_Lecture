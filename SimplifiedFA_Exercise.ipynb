{
 "cells": [
  {
   "cell_type": "code",
   "execution_count": null,
   "id": "fbfb4d49",
   "metadata": {},
   "outputs": [],
   "source": [
    "import scipy.special as special\n",
    "import numpy as np"
   ]
  },
  {
   "cell_type": "code",
   "execution_count": null,
   "id": "810c4117",
   "metadata": {},
   "outputs": [],
   "source": [
    "# SN curve parameters\n",
    "m = 3\n",
    "logK = 12.164\n",
    "q = 9\n",
    "h = 0.8\n",
    "n = 8.5e7\n",
    "K =  # Complete the code here\n",
    "\n",
    "# Deterministic fatigue assessment\n",
    "D = # Complete the code here (gamma fucntion is available as special.gamma() )\n",
    "D"
   ]
  },
  {
   "cell_type": "code",
   "execution_count": null,
   "id": "576fca6f",
   "metadata": {},
   "outputs": [],
   "source": [
    "# Probabilistic fatigue assessment\n",
    "samp = 10**7\n",
    "q_cov = 0.2\n",
    "q_ = np.random.normal() # Complete the code here\n",
    "\n",
    "\n",
    "logK_std = 0.2\n",
    "logK_mean = logK+2*logK_std\n",
    "logK_ = np.random.normal()  # Complete the code here\n",
    "K_ = 10**(logK_)\n",
    "\n",
    "delta_mean = 0\n",
    "delta_cov = 0.3\n",
    "delta_std = (np.log(delta_cov**2+1))**0.5;\n",
    "delta_ = np.random.lognormal(delta_mean,delta_std,size=); # Note that the arguements for lognoraml distribution are different \n",
    "\n",
    "# Damage \n",
    "D_ =      # Complete the code here\n"
   ]
  },
  {
   "cell_type": "code",
   "execution_count": null,
   "id": "12fdc85d",
   "metadata": {},
   "outputs": [],
   "source": [
    "# Failure probability\n",
    "PF = np.sum()/samp  # Complete the code here\n",
    "PF"
   ]
  },
  {
   "cell_type": "code",
   "execution_count": null,
   "id": "90ecebad",
   "metadata": {},
   "outputs": [],
   "source": [
    "# Sensitivity of the shape parameter uncertainty\n",
    "Q_COV = np.array([0.1, 0.15, 0.2, 0.25, 0.3])\n",
    "PF = np.zeros((len(Q_COV,)))\n",
    "for i in range(len(Q_COV)):\n",
    "    q_ = np.random.normal() # Complete the code here\n",
    "    \n",
    "    D_ = # Complete the code here\n",
    "    PF[i] = np.sum()/samp # Complete the code here\n",
    "\n",
    "PF"
   ]
  }
 ],
 "metadata": {
  "kernelspec": {
   "display_name": "Python 3",
   "language": "python",
   "name": "python3"
  },
  "language_info": {
   "codemirror_mode": {
    "name": "ipython",
    "version": 3
   },
   "file_extension": ".py",
   "mimetype": "text/x-python",
   "name": "python",
   "nbconvert_exporter": "python",
   "pygments_lexer": "ipython3",
   "version": "3.8.3"
  }
 },
 "nbformat": 4,
 "nbformat_minor": 5
}
